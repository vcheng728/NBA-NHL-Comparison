{
 "cells": [
  {
   "cell_type": "code",
   "execution_count": 71,
   "metadata": {},
   "outputs": [],
   "source": [
    "from bs4 import BeautifulSoup\n",
    "import requests\n",
    "import re\n",
    "import pandas as pd \n",
    "import numpy as np\n",
    "\n",
    "years = range(1989,2020,1)\n",
    "teams = [u'Vancouver Grizzlies','Charlotte Bobcats','Seattle Supersonics','New Orleans Hornets',u'Toronto Raptors', u'Brooklyn Nets', u'Boston Celtics', u'New York Knicks', u'Philadelphia 76ers', u'Chicago Bulls', u'Cleveland Cavaliers', u'Milwaukee Bucks', u'Indiana Pacers', u'Detroit Pistons', u'Atlanta Hawks', u'Washington Wizards', u'Miami Heat', u'Orlando Magic', u'Charlotte Hornets', u'Portland Trail Blazers', u'Oklahoma City Thunder', u'Denver Nuggets', u'Utah Jazz', u'Minnesota Timberwolves', u'Golden State Warriors', u'Los Angeles Clippers', u'Phoenix Suns', u'Sacramento Kings', u'Los Angeles Lakers', u'Memphis Grizzlies', u'Houston Rockets', u'Dallas Mavericks', u'San Antonio Spurs', u'New Orleans Pelicans']\n",
    "base_url = \"https://www.basketball-reference.com/leagues/NBA_{}.html\"\n",
    "# team = u'Toronto Raptors'\n",
    "nba = pd.DataFrame()\n",
    "\n",
    "for year in years:\n",
    "    url = base_url.format(year)\n",
    "    page = requests.get(url)\n",
    "    soup = BeautifulSoup(page.content, 'html.parser')\n",
    "    for team in teams:\n",
    "        try:\n",
    "            wins = soup.find(text = re.compile(team)).find_next(\"td\").string\n",
    "            losses = soup.find(text = re.compile(team)).find_next(\"td\").find_next(\"td\").string\n",
    "            df = pd.DataFrame([team,wins,losses]).T\n",
    "            df['Year'] = year\n",
    "            nba = nba.append(df)\n",
    "        except:\n",
    "            pass\n",
    "        \n",
    "nba.columns = ['Team','Wins','Losses','Year']\n",
    "nba = nba.reset_index()\n",
    "nba.drop('index',axis = 1,inplace= True)\n",
    "none_nba = nba[nba['Wins'].isnull()]\n",
    "none_nba['Wins'] = none_nba['Losses']\n",
    "none_nba['Wins'] = none_nba['Wins'].astype('int32')\n",
    "none_nba['Losses'] = none_nba['Losses'].astype('int32')\n",
    "none_nba['Losses'] = 82 - none_nba['Wins']\n",
    "\n",
    "\n",
    "nba.drop(none_nba.index,inplace = True)\n",
    "nba = nba.append(none_nba)\n",
    "nba['Wins'] = nba['Wins'].astype('int32')\n",
    "nba['Losses'] = nba['Losses'].astype('int32')\n",
    "nba['win%'] = nba['Wins']/(nba['Wins'] + nba['Losses'])\n",
    "\n",
    "(nba['win%'].std())"
   ]
  },
  {
   "cell_type": "code",
   "execution_count": 96,
   "metadata": {},
   "outputs": [
    {
     "data": {
      "text/plain": [
       "0.003048780487804878"
      ]
     },
     "execution_count": 96,
     "metadata": {},
     "output_type": "execute_result"
    }
   ],
   "source": [
    "(0.5*.5)/82"
   ]
  },
  {
   "cell_type": "code",
   "execution_count": 95,
   "metadata": {},
   "outputs": [
    {
     "data": {
      "text/plain": [
       "0.15305565456325704"
      ]
     },
     "execution_count": 95,
     "metadata": {},
     "output_type": "execute_result"
    }
   ],
   "source": [
    "nba['win%'].std()"
   ]
  },
  {
   "cell_type": "code",
   "execution_count": 97,
   "metadata": {},
   "outputs": [
    {
     "data": {
      "text/plain": [
       "0.023426033393787064"
      ]
     },
     "execution_count": 97,
     "metadata": {},
     "output_type": "execute_result"
    }
   ],
   "source": [
    "nba['win%'].std()**2"
   ]
  },
  {
   "cell_type": "code",
   "execution_count": 93,
   "metadata": {},
   "outputs": [
    {
     "data": {
      "text/plain": [
       "0.0361"
      ]
     },
     "execution_count": 93,
     "metadata": {},
     "output_type": "execute_result"
    }
   ],
   "source": [
    ".19**2"
   ]
  },
  {
   "cell_type": "code",
   "execution_count": 109,
   "metadata": {},
   "outputs": [],
   "source": [
    "url = 'https://www.basketball-reference.com/playoffs/NBA_2019.html'\n",
    "page = requests.get(url)\n",
    "soup = BeautifulSoup(page.content, 'html.parser')\n",
    "wins = soup.find_all(id=\"s874\")"
   ]
  },
  {
   "cell_type": "code",
   "execution_count": 106,
   "metadata": {},
   "outputs": [],
   "source": [
    "url = 'https://www.basketball-reference.com/leagues/NBA_2019.html'\n",
    "page = requests.get(url)\n",
    "soup = BeautifulSoup(page.content, 'html.parser')\n",
    "wins = soup.find(text = re.compile('Toronto Raptors')).find_next(\"td\").string"
   ]
  },
  {
   "cell_type": "code",
   "execution_count": 143,
   "metadata": {},
   "outputs": [],
   "source": [
    "finals_url = {}\n",
    "years = range(1989,2020,1)\n",
    "i = 0\n",
    "for year in years:\n",
    "    url = 'https://www.basketball-reference.com/playoffs/NBA_{}.html'\n",
    "    page = requests.get(url.format(year))\n",
    "    soup = BeautifulSoup(page.content, 'html.parser')  \n",
    "    for a in soup.find_all('a', href=True):\n",
    "        if 'nba-finals-' in a['href']:\n",
    "            i += 1\n",
    "            finals_url[i] = a['href']\n",
    "        else:\n",
    "            pass"
   ]
  },
  {
   "cell_type": "code",
   "execution_count": 151,
   "metadata": {},
   "outputs": [],
   "source": [
    "allurls = list(set(finals_url.values()))\n"
   ]
  },
  {
   "cell_type": "code",
   "execution_count": 152,
   "metadata": {},
   "outputs": [],
   "source": [
    "allurls.sort()"
   ]
  },
  {
   "cell_type": "code",
   "execution_count": null,
   "metadata": {},
   "outputs": [],
   "source": [
    "allurls\n",
    "\n",
    "table_id = four_factors \n",
    "get table and then first column values, substring first 3 digits to use as id for next table \n"
   ]
  },
  {
   "cell_type": "code",
   "execution_count": 157,
   "metadata": {},
   "outputs": [
    {
     "name": "stdout",
     "output_type": "stream",
     "text": [
      "/playoffs/2018-vegas-golden-knights-vs-washington-capitals-stanley-cup-final.html\n"
     ]
    }
   ],
   "source": [
    "url = 'https://www.hockey-reference.com/playoffs/NHL_2018.html'\n",
    "page = requests.get(url.format(year))\n",
    "soup = BeautifulSoup(page.content, 'html.parser')  \n",
    "\n",
    "for a in soup.find_all('a', href=True):\n",
    "    if 'stanley' in a['href']:\n",
    "        print(a['href'])"
   ]
  },
  {
   "cell_type": "code",
   "execution_count": null,
   "metadata": {},
   "outputs": [],
   "source": []
  }
 ],
 "metadata": {
  "kernelspec": {
   "display_name": "Python 3",
   "language": "python",
   "name": "python3"
  },
  "language_info": {
   "codemirror_mode": {
    "name": "ipython",
    "version": 3
   },
   "file_extension": ".py",
   "mimetype": "text/x-python",
   "name": "python",
   "nbconvert_exporter": "python",
   "pygments_lexer": "ipython3",
   "version": "3.7.1"
  }
 },
 "nbformat": 4,
 "nbformat_minor": 2
}
