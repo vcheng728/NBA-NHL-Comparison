{
 "cells": [
  {
   "cell_type": "markdown",
   "metadata": {},
   "source": [
    "# Why do underdogs do better in the NHL than the NBA?\n",
    "\n",
    "#### NBA in recent years has been criticized for being too predictable and lacking parity with the Warriors and Lebron James led teams featured in 4 straight finals. Whereas in the NHL, the Stanley Cup finals have had 9 different teams appear in the series in the last 5 years. When the last 31 years of these 2 major sports are compared, we see 11 different teams having won the NBA Championship compared to 17 different teams that have won the Stanley Cup.\n",
    "\n",
    "#### In order to explore this alleged lack of parity and how certain aspects of the NHL can be leveraged to increase parity we have to introduce ways to compare the NHL with the NBA.\n",
    "\n",
    "#### Comparison of major professional sports has always been a point of contention amongst sports fans with one fanbase accusing the other leagues of being easier to win the grand prize in.  A paper from [Lopez, Matthews, and Baumer](https://arxiv.org/pdf/1701.05976.pdf) discussed a model to assess strength of competition. \n",
    "\n",
    "#### Without building a complex model to assess the parity within the leagues, we will consider several factors: distribution in winning percentage between teams, playing time and impact of superstars, as well as the salary cap on a team's success.  \n",
    "\n",
    "#### The majority of data referenced will be sourced from sports-reference (www.basketball-reference.com & www.hockey-reference.com)"
   ]
  },
  {
   "cell_type": "markdown",
   "metadata": {},
   "source": [
    "# NBA Standings\n",
    "\n",
    "#### The first step to determining winning percentage variance is to scrape the standings from www.basketball-reference.com for the last 31 years being mindful of the lockout shortened years of 2012 and 1999 which will be excluded from calculations."
   ]
  },
  {
   "cell_type": "code",
   "execution_count": 3,
   "metadata": {},
   "outputs": [
    {
     "name": "stderr",
     "output_type": "stream",
     "text": [
      "F:\\Programs\\Anaconda\\lib\\site-packages\\ipykernel_launcher.py:31: SettingWithCopyWarning: \n",
      "A value is trying to be set on a copy of a slice from a DataFrame.\n",
      "Try using .loc[row_indexer,col_indexer] = value instead\n",
      "\n",
      "See the caveats in the documentation: http://pandas.pydata.org/pandas-docs/stable/indexing.html#indexing-view-versus-copy\n",
      "F:\\Programs\\Anaconda\\lib\\site-packages\\ipykernel_launcher.py:32: SettingWithCopyWarning: \n",
      "A value is trying to be set on a copy of a slice from a DataFrame.\n",
      "Try using .loc[row_indexer,col_indexer] = value instead\n",
      "\n",
      "See the caveats in the documentation: http://pandas.pydata.org/pandas-docs/stable/indexing.html#indexing-view-versus-copy\n",
      "F:\\Programs\\Anaconda\\lib\\site-packages\\ipykernel_launcher.py:33: SettingWithCopyWarning: \n",
      "A value is trying to be set on a copy of a slice from a DataFrame.\n",
      "Try using .loc[row_indexer,col_indexer] = value instead\n",
      "\n",
      "See the caveats in the documentation: http://pandas.pydata.org/pandas-docs/stable/indexing.html#indexing-view-versus-copy\n",
      "F:\\Programs\\Anaconda\\lib\\site-packages\\ipykernel_launcher.py:34: SettingWithCopyWarning: \n",
      "A value is trying to be set on a copy of a slice from a DataFrame.\n",
      "Try using .loc[row_indexer,col_indexer] = value instead\n",
      "\n",
      "See the caveats in the documentation: http://pandas.pydata.org/pandas-docs/stable/indexing.html#indexing-view-versus-copy\n"
     ]
    }
   ],
   "source": [
    "from bs4 import BeautifulSoup\n",
    "import requests\n",
    "import re\n",
    "import pandas as pd \n",
    "import numpy as np\n",
    "\n",
    "years = range(1989,2020,1)\n",
    "teams = [u'Vancouver Grizzlies','Charlotte Bobcats','Seattle Supersonics','New Orleans Hornets',u'Toronto Raptors', u'Brooklyn Nets', u'Boston Celtics', u'New York Knicks', u'Philadelphia 76ers', u'Chicago Bulls', u'Cleveland Cavaliers', u'Milwaukee Bucks', u'Indiana Pacers', u'Detroit Pistons', u'Atlanta Hawks', u'Washington Wizards', u'Miami Heat', u'Orlando Magic', u'Charlotte Hornets', u'Portland Trail Blazers', u'Oklahoma City Thunder', u'Denver Nuggets', u'Utah Jazz', u'Minnesota Timberwolves', u'Golden State Warriors', u'Los Angeles Clippers', u'Phoenix Suns', u'Sacramento Kings', u'Los Angeles Lakers', u'Memphis Grizzlies', u'Houston Rockets', u'Dallas Mavericks', u'San Antonio Spurs', u'New Orleans Pelicans']\n",
    "base_url = \"https://www.basketball-reference.com/leagues/NBA_{}.html\"\n",
    "nba = pd.DataFrame()\n",
    "\n",
    "\n",
    "for year in years:\n",
    "    url = base_url.format(year)\n",
    "    page = requests.get(url)\n",
    "    soup = BeautifulSoup(page.content, 'html.parser')\n",
    "    for team in teams:\n",
    "        try:\n",
    "            wins = soup.find(text = re.compile(team)).find_next(\"td\").string\n",
    "            losses = soup.find(text = re.compile(team)).find_next(\"td\").find_next(\"td\").string\n",
    "            df = pd.DataFrame([team,wins,losses]).T\n",
    "            df['Year'] = year\n",
    "            nba = nba.append(df)\n",
    "        except:\n",
    "            pass\n",
    "        \n",
    "nba.columns = ['Team','Wins','Losses','Year']\n",
    "nba = nba.reset_index()\n",
    "nba.drop('index',axis = 1,inplace= True)\n",
    "none_nba = nba[nba['Wins'].isnull()]\n",
    "none_nba['Wins'] = none_nba['Losses']\n",
    "none_nba['Wins'] = none_nba['Wins'].astype('int32')\n",
    "none_nba['Losses'] = none_nba['Losses'].astype('int32')\n",
    "none_nba['Losses'] = 82 - none_nba['Wins']\n",
    "\n",
    "\n",
    "nba.drop(none_nba.index,inplace = True)\n",
    "nba = nba.append(none_nba)\n",
    "nba['Wins'] = nba['Wins'].astype('int32')\n",
    "nba['Losses'] = nba['Losses'].astype('int32')\n",
    "nba['win%'] = nba['Wins']/(nba['Wins'] + nba['Losses'])\n",
    "\n",
    "#removing 1999 and 2012 seasons as they were lockout shortened to 50 and 66 games \n",
    "nba_fs = nba[(nba['Year'] != 2012) & (nba['Year'] != 1999)]\n",
    "\n"
   ]
  },
  {
   "cell_type": "markdown",
   "metadata": {},
   "source": [
    "# NHL Standings\n",
    "\n",
    "#### Likewise for the NHL, we refer to www.hockey-reference.com for standings for the last 31 years skipping the 2005 season which saw no games played due to a lockout"
   ]
  },
  {
   "cell_type": "code",
   "execution_count": 47,
   "metadata": {},
   "outputs": [],
   "source": [
    "years = np.arange(1989,2020,1)\n",
    "base_url = 'https://www.hockey-reference.com/leagues/NHL_{}_standings.html'\n",
    "\n",
    "nhl = pd.DataFrame()\n",
    "\n",
    "for year in years:\n",
    "    if year == 2005: #2005 saw no games played due to lockout \n",
    "        pass\n",
    "    else:\n",
    "        req_url = base_url.format(year)\n",
    "        req = requests.get(req_url)\n",
    "        soup = BeautifulSoup(req.content, 'html.parser')\n",
    "        table = soup.find('table', {'id':'standings'})\n",
    "        df = pd.read_html(str(table))[0]\n",
    "        df['Year'] = year\n",
    "        nhl = nhl.append(df[['Unnamed: 1','Overall','Year']])\n",
    "\n",
    "nhl.columns = ['Team','Overall','Year']\n",
    "nhl = nhl[nhl['Year'] != 2013] #removing 2013 season as it was lockout shortened\n",
    "record_nhl = nhl.Overall.str.split(\"-\",expand = True)\n",
    "record_nhl.columns = ['Wins','RegL','OTL']\n",
    "\n",
    "record_nhl['RegL'] = record_nhl['RegL'].astype('int32')\n",
    "record_nhl['OTL'] = record_nhl['OTL'].astype('int32')\n",
    "record_nhl['Wins'] = record_nhl['Wins'].astype('int32')\n",
    "record_nhl['Losses'] = record_nhl['RegL'] + record_nhl['OTL']\n",
    "record_nhl['win%'] = record_nhl['Wins']/(record_nhl['Wins'] + record_nhl['Losses'])\n",
    "record_nhl = pd.concat([nhl[['Team','Year']],record_nhl],axis = 1)"
   ]
  },
  {
   "cell_type": "code",
   "execution_count": 28,
   "metadata": {},
   "outputs": [
    {
     "name": "stdout",
     "output_type": "stream",
     "text": [
      "NBA Average Winning %: 0.49913\n",
      "NHL Average Winning %: 0.467\n",
      "NBA Winning % Standard Deviation: 0.15323\n",
      "NHL Winning % Standard Deviation: 0.1015\n"
     ]
    }
   ],
   "source": [
    "print('NBA Average Winning %: ' + str(round(nba_fs['win%'].mean(),5)))\n",
    "print('NHL Average Winning %: ' + str(round(record_nhl['win%'].mean(),5)))\n",
    "\n",
    "print('NBA Winning % Standard Deviation: ' + str(round(nba_fs['win%'].std(),5)))\n",
    "print('NHL Winning % Standard Deviation: ' + str(round(record_nhl['win%'].std(),5)))"
   ]
  },
  {
   "cell_type": "code",
   "execution_count": 18,
   "metadata": {},
   "outputs": [],
   "source": [
    "import matplotlib.pyplot as plt \n",
    "import seaborn as sns "
   ]
  },
  {
   "cell_type": "code",
   "execution_count": 19,
   "metadata": {},
   "outputs": [
    {
     "data": {
      "text/plain": [
       "<matplotlib.axes._subplots.AxesSubplot at 0x164dc4e7710>"
      ]
     },
     "execution_count": 19,
     "metadata": {},
     "output_type": "execute_result"
    },
    {
     "data": {
      "image/png": "[encoded data removed]",
      "text/plain": [
       "<Figure size 432x288 with 1 Axes>"
      ]
     },
     "metadata": {
      "needs_background": "light"
     },
     "output_type": "display_data"
    }
   ],
   "source": [
    "sns.distplot(nba_fs['win%'])"
   ]
  },
  {
   "cell_type": "code",
   "execution_count": 21,
   "metadata": {},
   "outputs": [
    {
     "data": {
      "text/plain": [
       "<matplotlib.axes._subplots.AxesSubplot at 0x164de3f7588>"
      ]
     },
     "execution_count": 21,
     "metadata": {},
     "output_type": "execute_result"
    },
    {
     "data": {
      "image/png": "[encoded data removed]",
      "text/plain": [
       "<Figure size 432x288 with 1 Axes>"
      ]
     },
     "metadata": {
      "needs_background": "light"
     },
     "output_type": "display_data"
    }
   ],
   "source": [
    "sns.distplot(record_nhl['win%'])"
   ]
  },
  {
   "cell_type": "code",
   "execution_count": 32,
   "metadata": {},
   "outputs": [
    {
     "data": {
      "text/plain": [
       "<matplotlib.axes._subplots.AxesSubplot at 0x164da57a780>"
      ]
     },
     "execution_count": 32,
     "metadata": {},
     "output_type": "execute_result"
    },
    {
     "data": {
      "image/png": "[encoded data removed]",
      "text/plain": [
       "<Figure size 432x288 with 1 Axes>"
      ]
     },
     "metadata": {
      "needs_background": "light"
     },
     "output_type": "display_data"
    }
   ],
   "source": [
    "nba_wr = nba_fs.groupby('Year').agg('std')['win%'].reset_index()\n",
    "sns.lineplot(x = 'Year', y = 'win%', data = nba_wr)"
   ]
  },
  {
   "cell_type": "code",
   "execution_count": 49,
   "metadata": {},
   "outputs": [
    {
     "data": {
      "text/plain": [
       "<matplotlib.axes._subplots.AxesSubplot at 0x164da7f3240>"
      ]
     },
     "execution_count": 49,
     "metadata": {},
     "output_type": "execute_result"
    },
    {
     "data": {
      "image/png": "[encoded data removed]",
      "text/plain": [
       "<Figure size 432x288 with 1 Axes>"
      ]
     },
     "metadata": {
      "needs_background": "light"
     },
     "output_type": "display_data"
    }
   ],
   "source": [
    "recordnhl = record_nhl.groupby('Year').agg('std')['win%'].reset_index()\n",
    "sns.lineplot(x = 'Year', y = 'win%', data = recordnhl) "
   ]
  },
  {
   "cell_type": "markdown",
   "metadata": {},
   "source": [
    "#### Simple statistics show that approximately 64% of teams of NBA teams have between 35 and 65% winning % in the last 30 years while the NHL has around 64% of teams with between 37 and 57% winning % in the last 30 years. Also, the distribution of NHL winning percentages are more normally distributed than that of the NBA sees more teams with 55% win rate. It is also apparently that variance has also dropped gradually since 1989 for the NBA but its current level is still higher than that of the NHL.\n",
    "\n",
    "#### This difference in variance and average winning percentage serves as a proxy for identifying a difference in parity between the 2 leagues. Next the investigation turns to the impact of star players and playing time in the finals."
   ]
  },
  {
   "cell_type": "markdown",
   "metadata": {},
   "source": [
    "### Scraping NHL and NBA Finals playing times from 1989-2019"
   ]
  },
  {
   "cell_type": "code",
   "execution_count": 51,
   "metadata": {},
   "outputs": [],
   "source": [
    "from bs4 import BeautifulSoup\n",
    "import requests\n",
    "import re\n",
    "import pandas as pd \n",
    "import numpy as np\n",
    "\n",
    "finals_url = {}\n",
    "years = range(1989,2020,1)\n",
    "i = 0\n",
    "\n",
    "\n",
    "for year in years:\n",
    "    url = 'https://www.basketball-reference.com/playoffs/NBA_{}.html'\n",
    "    page = requests.get(url.format(year))\n",
    "    soup = BeautifulSoup(page.content, 'html.parser')  \n",
    "    for a in soup.find_all('a', href=True):\n",
    "        if 'nba-finals-' in a['href']:\n",
    "            i += 1\n",
    "            finals_url[i] = a['href']\n",
    "        else:\n",
    "            pass\n",
    "        \n",
    "allurls = list(set(finals_url.values()))\n",
    "allurls.sort()        "
   ]
  },
  {
   "cell_type": "code",
   "execution_count": null,
   "metadata": {},
   "outputs": [],
   "source": [
    "\n",
    "nba_finals_stats = pd.DataFrame()\n",
    "bballrefurl = 'https://www.basketball-reference.com{}'\n",
    "# i = 1\n",
    "year = 1989\n",
    "\n",
    "# for url in allurls:\n",
    "\n",
    "    \n",
    "def finals_stats(url):\n",
    "    year = allurls[allurls.index(url)][10:14]\n",
    "    finalsurl = bballrefurl.format(url)\n",
    "    df = pd.DataFrame()  \n",
    "    for n in [-1,-2]:\n",
    "        t1 = pd.read_html(finalsurl)[n]\n",
    "        t1.columns = t1.columns.get_level_values(1) \n",
    "        t1['Team'] = 'Team' + str(n*-1)\n",
    "        t1['Year'] = year\n",
    "        df = df.append(t1[['Rk','Player','MP','Team','Year']])\n",
    "#         print(df)\n",
    "    return df\n",
    "\n",
    "for url in allurls:\n",
    "    nba_finals_stats = nba_finals_stats.append(finals_stats(url))\n",
    "    "
   ]
  },
  {
   "cell_type": "code",
   "execution_count": 54,
   "metadata": {},
   "outputs": [],
   "source": [
    "nhlfinals_url = {}\n",
    "years = range(1989,2020,1)\n",
    "i = 0\n",
    "\n",
    "\n",
    "for year in years:\n",
    "    url = 'https://www.hockey-reference.com/playoffs/NHL_{}.html'\n",
    "    page = requests.get(url.format(year))\n",
    "    soup = BeautifulSoup(page.content, 'html.parser')  \n",
    "    for a in soup.find_all('a', href=True):\n",
    "        if 'stanley' in a['href']:\n",
    "            i += 1\n",
    "            nhlfinals_url[i] = a['href']\n",
    "        else:\n",
    "            pass\n",
    "\n",
    "allnhlurls = list(set(nhlfinals_url.values()))\n",
    "allnhlurls.sort()"
   ]
  },
  {
   "cell_type": "code",
   "execution_count": null,
   "metadata": {},
   "outputs": [],
   "source": [
    "nhlrefurl = 'https://www.hockey-reference.com{}'\n",
    "nhl_finals_stats = pd.DataFrame()\n",
    "\n",
    "def nhlfinals_stats(url):\n",
    "    year = allnhlurls[allnhlurls.index(url)][10:14]\n",
    "    finalsurl = nhlrefurl.format(url)\n",
    "    df = pd.DataFrame()  \n",
    "    for n in [-2,-4]:\n",
    "        t1 = pd.read_html(finalsurl)[n]\n",
    "        t1.columns = t1.columns.get_level_values(1) \n",
    "        t1['Team'] = 'Team' + str(int(n*-.5))\n",
    "        t1['Year'] = year\n",
    "        df = df.append(t1[['Rk','Player','Pos','ATOI','Team','Year']])\n",
    "#         print(df)\n",
    "    return df\n",
    "\n",
    "for url in allnhlurls:\n",
    "    nhl_finals_stats = nhl_finals_stats.append(nhlfinals_stats(url))\n"
   ]
  },
  {
   "cell_type": "code",
   "execution_count": 88,
   "metadata": {},
   "outputs": [
    {
     "name": "stdout",
     "output_type": "stream",
     "text": [
      "Starting 5 plays 73.2% of minutes during the finals\n"
     ]
    }
   ],
   "source": [
    "print(\"Starting 5 plays \" + str(round(nba_finals_stats[nba_finals_stats['Rk'] < 6]['MP'].iloc[:,1].sum()/14880,3)*100) + \"% of minutes during the finals\")"
   ]
  },
  {
   "cell_type": "code",
   "execution_count": 90,
   "metadata": {},
   "outputs": [
    {
     "name": "stdout",
     "output_type": "stream",
     "text": [
      "Most minutes played by a forward during the Stanley Cup Finals: 24\n"
     ]
    }
   ],
   "source": [
    "forwards = nhl_finals_stats[(nhl_finals_stats['Pos'] != 'D') & (nhl_finals_stats['Pos'] != 'G')]\n",
    "fw_min = forwards['ATOI'].str.split(\":\",expand = True)[0]\n",
    "fw_min.fillna(0,inplace = True)\n",
    "fw_min = fw_min.astype('int32')\n",
    "print(\"Most minutes played by a forward during the Stanley Cup Finals: \" + str(fw_min.max()))"
   ]
  },
  {
   "cell_type": "markdown",
   "metadata": {},
   "source": [
    "#### Whilst time on ice data was not available until after 2000, we can see that since then the most minutes a forward has played during the Stanley Cup was 24 out of a possible 60 minutes. While in the NBA, the average starting 5 players 73.2% of all available minutes in a basketball game with instances of players playing all 48 minutes.\n",
    "\n",
    "#### This is especially important when considering the difference in skill of star players in both the NHL and NBA"
   ]
  },
  {
   "cell_type": "markdown",
   "metadata": {},
   "source": [
    "#### In order to do so, the season stats of players must be tabulated from both leagues"
   ]
  },
  {
   "cell_type": "code",
   "execution_count": null,
   "metadata": {},
   "outputs": [],
   "source": [
    "# Get all values from 1989 to 2019, with interval of 1\n",
    "import pandas as pd\n",
    "import numpy as np\n",
    "\n",
    "years = np.arange(1989,2020,1)\n",
    "base_url = 'https://www.basketball-reference.com/leagues/NBA_{}_advanced.html'\n",
    "\n",
    "adv = pd.DataFrame()\n",
    "\n",
    "for year in years:\n",
    "    if year == 2012 or year == 1999:\n",
    "        pass:\n",
    "    else:\n",
    "        req_url = base_url.format(year)\n",
    "        req = requests.get(req_url)\n",
    "        soup = BeautifulSoup(req.content, 'html.parser')\n",
    "        table = soup.find('table', {'id':'advanced_stats'})\n",
    "        df = pd.read_html(str(table))[0]\n",
    "        df.drop(['Unnamed: 19','Unnamed: 24'],axis = 1,inplace = True)\n",
    "        df['Year'] = year\n",
    "\n",
    "        adv = adv.append(df)"
   ]
  },
  {
   "cell_type": "code",
   "execution_count": null,
   "metadata": {},
   "outputs": [],
   "source": [
    "import pandas as pd\n",
    "import numpy as np\n",
    "\n",
    "years = np.arange(1989,2020,1)\n",
    "base_url = 'https://www.hockey-reference.com/leagues/NHL_{}_skaters.html'\n",
    "\n",
    "nhl = pd.DataFrame()\n",
    "\n",
    "for year in years:\n",
    "    if year == 2005:\n",
    "        pass\n",
    "    else:\n",
    "        req_url = base_url.format(year)\n",
    "        req = requests.get(req_url)\n",
    "        soup = BeautifulSoup(req.content, 'html.parser')\n",
    "        table = soup.find('table', {'id':'stats'})\n",
    "        df = pd.read_html(str(table))[0]\n",
    "        df.columns = df.columns.get_level_values(1)\n",
    "        df['Year'] = year\n",
    "\n",
    "        nhl = nhl.append(df[nhlcols])"
   ]
  },
  {
   "cell_type": "code",
   "execution_count": 96,
   "metadata": {},
   "outputs": [],
   "source": [
    "def q1(x):\n",
    "    return x.quantile(.975)\n",
    "def avg(x):\n",
    "    return x.mean()\n",
    "f = {'WS': ['median', 'std', q1,avg]}\n",
    "\n",
    "ws = adv.groupby('Year').agg(f)['WS'].reset_index()\n",
    "ws['starvsavg'] = ws['q1']/ws['avg']\n"
   ]
  },
  {
   "cell_type": "code",
   "execution_count": 99,
   "metadata": {},
   "outputs": [],
   "source": [
    "nhl_f = {'PS': ['median', 'std', q1,avg]}\n",
    "ps = nhl.groupby('Year').agg(nhl_f)['PS'].reset_index()\n",
    "ps['starvsavg'] = ws['q1']/ps['avg']"
   ]
  },
  {
   "cell_type": "markdown",
   "metadata": {},
   "source": [
    "#### Win Shares were a concept originally created in baseball to attribute wins to a players performance. That same concept has been applied to both NBA and NHL in the form of Win Shares and Point Shares respectively. They are both are the result of summing Offensive Win/Point Shares and Defensive Win/Point Shares. When comparing this metric of the stars of these leagues (assumed to be those in 97.5th percentile or higher) they are fairly similar at 4.3x league average for NBA and 4.76x league average for the NHL.\n",
    "\n",
    "#### This shows that stars in both leagues have fairly equal prowess over the average player in the league but because NBA stars play more minutes, they are able to influence the game more and have more impact on the outcome of the game.  "
   ]
  },
  {
   "cell_type": "code",
   "execution_count": 109,
   "metadata": {},
   "outputs": [
    {
     "name": "stdout",
     "output_type": "stream",
     "text": [
      "Star Win Share Magnitude vs League Average:4.3\n",
      "Star Point Share Magnitude vs League Average:4.76\n"
     ]
    }
   ],
   "source": [
    "print(\"Star Win Share Magnitude vs League Average:\" + str(round(ws['starvsavg'].mean(),2)))\n",
    "print(\"Star Point Share Magnitude vs League Average:\" + str(round(ps['starvsavg'].mean(),2)))\n"
   ]
  },
  {
   "cell_type": "markdown",
   "metadata": {},
   "source": [
    "#### Finally, the salary cap structure is different in the 2 leagues. A salary cap is a league imposed maximum total for an individual team's salary. The NHL implements a [hard cap](https://en.wikipedia.org/wiki/Salary_cap#National_Hockey_League) while the NBA has a [soft cap](https://en.wikipedia.org/wiki/Salary_cap#National_Basketball_Association_(soft_cap_+_luxury_tax)).   \n",
    "\n",
    "#### A hard cap is a maximum which cannot be exceeded or the team must forfeit games until they become cap compliant. On the other hand, a soft cap is a maximum can be exceeded but a team must pay a 'tax' sanctioned for the amount for which the team has exceeded the cap."
   ]
  },
  {
   "cell_type": "code",
   "execution_count": 114,
   "metadata": {},
   "outputs": [
    {
     "name": "stdout",
     "output_type": "stream",
     "text": [
      "NBA Champs Last 30 Years\n",
      "Bulls       6\n",
      "Lakers      5\n",
      "Spurs       5\n",
      "Heat        3\n",
      "Warriors    3\n",
      "Rockets     2\n",
      "Pistons     2\n",
      "Raptors     1\n",
      "Celtics     1\n",
      "Cavs        1\n",
      "Mavs        1\n",
      "Name: Winner, dtype: int64\n",
      "11 Different NBA Champions last 31 Years\n",
      " \n",
      " \n",
      "NHL Champs Last 30 Years\n",
      "Pittsburgh Penguins    5\n",
      "Detroit Red            4\n",
      "Chicago Blackhawks     3\n",
      "New Jersey             3\n",
      "Colorado Avalanche     2\n",
      "Los Angeles            2\n",
      "Washington Capitals    1\n",
      "New York               1\n",
      "Boston Bruins          1\n",
      "Calgary Flames         1\n",
      "Dallas Stars           1\n",
      "Carolina Hurricanes    1\n",
      "Montreal Canadiens     1\n",
      "Tampa Bay              1\n",
      "Edmonton Oilers        1\n",
      "Anaheim Ducks          1\n",
      "St. Louis              1\n",
      "Name: Winner, dtype: int64\n",
      "17 Different Stanley Cup winners last 31 Years\n"
     ]
    }
   ],
   "source": [
    "nbachamps = pd.read_csv('NBA Champs.csv')\n",
    "nhlchamps = pd.read_csv('NHL Champs.csv')\n",
    "\n",
    "print(\"NBA Champs Last 30 Years\")    \n",
    "print(nbachamps['Winner'].value_counts())\n",
    "print(str(len(nbachamps['Winner'].value_counts())) + \" Different NBA Champions last 31 Years\")\n",
    "print(\" \")\n",
    "print(\" \")\n",
    "print(\"NHL Champs Last 30 Years\")    \n",
    "print(nhlchamps['Winner'].value_counts())\n",
    "print(str(len(nhlchamps['Winner'].value_counts())) + \" Different Stanley Cup winners last 31 Years\")"
   ]
  },
  {
   "cell_type": "markdown",
   "metadata": {},
   "source": [
    "#### On the surface there appears to be greater parity in the NHL compared to the NBA since 1989 where Bulls won 6 championships in the 90s and the Lakers 5 in 00s. However when a comparison is made after the NHL 2005 lockout where parity was increased with the introduction of the hard cap a different story is told.."
   ]
  },
  {
   "cell_type": "code",
   "execution_count": 121,
   "metadata": {},
   "outputs": [
    {
     "name": "stdout",
     "output_type": "stream",
     "text": [
      "NBA Champs Last 30 Years\n",
      "Heat        3\n",
      "Warriors    3\n",
      "Lakers      2\n",
      "Spurs       2\n",
      "Raptors     1\n",
      "Celtics     1\n",
      "Cavs        1\n",
      "Mavs        1\n",
      "Name: Winner, dtype: int64\n",
      " \n",
      "NHL Champs Last 30 Years\n",
      "Chicago Blackhawks     3\n",
      "Pittsburgh Penguins    3\n",
      "Los Angeles            2\n",
      "Anaheim Ducks          1\n",
      "Carolina Hurricanes    1\n",
      "Boston Bruins          1\n",
      "Detroit Red            1\n",
      "Washington Capitals    1\n",
      "St. Louis              1\n",
      "Name: Winner, dtype: int64\n"
     ]
    }
   ],
   "source": [
    "print(\"NBA Champs Last 30 Years\")   \n",
    "print(nbachamps[nbachamps['Year'] > 2005]['Winner'].value_counts())\n",
    "print(\" \")\n",
    "print(\"NHL Champs Last 30 Years\")   \n",
    "print(nhlchamps[nhlchamps['Year'] > 2005]['Winner'].value_counts())"
   ]
  },
  {
   "cell_type": "markdown",
   "metadata": {},
   "source": [
    "#### Since the NHL 2005 lockout, there have been 8 different NBA Champions and 9 different Stanley Cup winners. The different salary cap structures have improved parity over the years however one large advantage of the soft cap is the ability to go over the cap to re-sign existing players providing the organization is willing to pay the luxury and repeater taxes (luxury tax with increased rates for teams that exceed the cap in consecutive years).\n",
    "\n",
    "#### Since, star players have such impact on the outcome of a basketball due to the amount of minutes they can be on the court, the ability to amass and retain multiple superstars provides a great advantage for teams who are financially capable of doing so creating a dynasty. A possible resolution to this problem would be to implement a hard cap in order to level the playing field as not all teams are financially capable to pay \\\\$145 Million in annual player salary with an additional \\\\$50 million in luxury tax which was the cost of fielding the 2018-2019 Warriors."
   ]
  },
  {
   "cell_type": "code",
   "execution_count": 1,
   "metadata": {},
   "outputs": [],
   "source": [
    "\n",
    "# talk about repeats pre and post NHL hard cap which was introduced in 2006 after 2005 lockout\n",
    "# hard cap vs soft cap allowing continued success which is a major difference in the collective bargaining agreements \n",
    "# of the 2 leagues \n",
    "\n",
    "\n"
   ]
  }
 ],
 "metadata": {
  "kernelspec": {
   "display_name": "Python 3",
   "language": "python",
   "name": "python3"
  },
  "language_info": {
   "codemirror_mode": {
    "name": "ipython",
    "version": 3
   },
   "file_extension": ".py",
   "mimetype": "text/x-python",
   "name": "python",
   "nbconvert_exporter": "python",
   "pygments_lexer": "ipython3",
   "version": "3.6.8"
  }
 },
 "nbformat": 4,
 "nbformat_minor": 2
}
