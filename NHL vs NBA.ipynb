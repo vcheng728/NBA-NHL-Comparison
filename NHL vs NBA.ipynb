{
 "cells": [
  {
   "cell_type": "markdown",
   "metadata": {},
   "source": [
    "# NBA Standings"
   ]
  },
  {
   "cell_type": "code",
   "execution_count": 71,
   "metadata": {},
   "outputs": [],
   "source": [
    "from bs4 import BeautifulSoup\n",
    "import requests\n",
    "import re\n",
    "import pandas as pd \n",
    "import numpy as np\n",
    "\n",
    "years = range(1989,2020,1)\n",
    "teams = [u'Vancouver Grizzlies','Charlotte Bobcats','Seattle Supersonics','New Orleans Hornets',u'Toronto Raptors', u'Brooklyn Nets', u'Boston Celtics', u'New York Knicks', u'Philadelphia 76ers', u'Chicago Bulls', u'Cleveland Cavaliers', u'Milwaukee Bucks', u'Indiana Pacers', u'Detroit Pistons', u'Atlanta Hawks', u'Washington Wizards', u'Miami Heat', u'Orlando Magic', u'Charlotte Hornets', u'Portland Trail Blazers', u'Oklahoma City Thunder', u'Denver Nuggets', u'Utah Jazz', u'Minnesota Timberwolves', u'Golden State Warriors', u'Los Angeles Clippers', u'Phoenix Suns', u'Sacramento Kings', u'Los Angeles Lakers', u'Memphis Grizzlies', u'Houston Rockets', u'Dallas Mavericks', u'San Antonio Spurs', u'New Orleans Pelicans']\n",
    "base_url = \"https://www.basketball-reference.com/leagues/NBA_{}.html\"\n",
    "nba = pd.DataFrame()\n",
    "\n",
    "\n",
    "for year in years:\n",
    "    url = base_url.format(year)\n",
    "    page = requests.get(url)\n",
    "    soup = BeautifulSoup(page.content, 'html.parser')\n",
    "    for team in teams:\n",
    "        try:\n",
    "            wins = soup.find(text = re.compile(team)).find_next(\"td\").string\n",
    "            losses = soup.find(text = re.compile(team)).find_next(\"td\").find_next(\"td\").string\n",
    "            df = pd.DataFrame([team,wins,losses]).T\n",
    "            df['Year'] = year\n",
    "            nba = nba.append(df)\n",
    "        except:\n",
    "            pass\n",
    "        \n",
    "nba.columns = ['Team','Wins','Losses','Year']\n",
    "nba = nba.reset_index()\n",
    "nba.drop('index',axis = 1,inplace= True)\n",
    "none_nba = nba[nba['Wins'].isnull()]\n",
    "none_nba['Wins'] = none_nba['Losses']\n",
    "none_nba['Wins'] = none_nba['Wins'].astype('int32')\n",
    "none_nba['Losses'] = none_nba['Losses'].astype('int32')\n",
    "none_nba['Losses'] = 82 - none_nba['Wins']\n",
    "\n",
    "\n",
    "nba.drop(none_nba.index,inplace = True)\n",
    "nba = nba.append(none_nba)\n",
    "nba['Wins'] = nba['Wins'].astype('int32')\n",
    "nba['Losses'] = nba['Losses'].astype('int32')\n",
    "nba['win%'] = nba['Wins']/(nba['Wins'] + nba['Losses'])\n",
    "\n",
    "#removing 1999 and 2012 seasons as they were lockout shortened to 50 and 66 games \n",
    "nba_fs = nba[(nba['Year'] != 2012) & (nba['Year'] != 1999)]\n",
    "\n",
    "\n",
    "(nba_fs['win%'].std())"
   ]
  },
  {
   "cell_type": "markdown",
   "metadata": {},
   "source": [
    "# NHL Standings"
   ]
  },
  {
   "cell_type": "code",
   "execution_count": null,
   "metadata": {},
   "outputs": [],
   "source": [
    "years = np.arange(1989,2020,1)\n",
    "base_url = 'https://www.hockey-reference.com/leagues/NHL_{}_standings.html'\n",
    "\n",
    "nhl = pd.DataFrame()\n",
    "\n",
    "for year in years:\n",
    "    if year == 2005: #2005 saw no games played due to lockout \n",
    "        pass\n",
    "    else:\n",
    "        req_url = base_url.format(year)\n",
    "        req = requests.get(req_url)\n",
    "        soup = BeautifulSoup(req.content, 'html.parser')\n",
    "        table = soup.find('table', {'id':'standings'})\n",
    "        df = pd.read_html(str(table))[0]\n",
    "        df['Year'] = year\n",
    "        nhl = nhl.append(df[['Unnamed: 1','Overall','Year']])\n",
    "\n",
    "nhl.columns = ['Team','Overall','Year']\n",
    "nhl = nhl[nhl['Year'] != 2013] #removing 2013 season as it was lockout shortened\n",
    "record_nhl = nhl.Overall.str.split(\"-\",expand = True)\n",
    "record_nhl.columns = ['Wins','RegL','OTL']\n",
    "\n",
    "record_nhl['RegL'] = record_nhl['RegL'].astype('int32')\n",
    "record_nhl['OTL'] = record_nhl['OTL'].astype('int32')\n",
    "record_nhl['Wins'] = record_nhl['Wins'].astype('int32')\n",
    "record_nhl['Losses'] = record_nhl['RegL'] + record_nhl['OTL']\n",
    "record_nhl['win%'] = record_nhl['Wins']/(record_nhl['Wins'] + record_nhl['Losses'])"
   ]
  },
  {
   "cell_type": "code",
   "execution_count": 96,
   "metadata": {},
   "outputs": [
    {
     "data": {
      "text/plain": [
       "0.003048780487804878"
      ]
     },
     "execution_count": 96,
     "metadata": {},
     "output_type": "execute_result"
    }
   ],
   "source": [
    "nhlvarob = (record_nhl['win%'].std())**2"
   ]
  },
  {
   "cell_type": "code",
   "execution_count": 1,
   "metadata": {},
   "outputs": [
    {
     "ename": "NameError",
     "evalue": "name 'nba' is not defined",
     "output_type": "error",
     "traceback": [
      "\u001b[1;31m---------------------------------------------------------------------------\u001b[0m",
      "\u001b[1;31mNameError\u001b[0m                                 Traceback (most recent call last)",
      "\u001b[1;32m<ipython-input-1-08e5cd6bccb9>\u001b[0m in \u001b[0;36m<module>\u001b[1;34m\u001b[0m\n\u001b[1;32m----> 1\u001b[1;33m \u001b[0mnbavarob\u001b[0m \u001b[1;33m=\u001b[0m \u001b[0mnba\u001b[0m\u001b[1;33m[\u001b[0m\u001b[1;34m'win%'\u001b[0m\u001b[1;33m]\u001b[0m\u001b[1;33m.\u001b[0m\u001b[0mstd\u001b[0m\u001b[1;33m(\u001b[0m\u001b[1;33m)\u001b[0m\u001b[1;33m**\u001b[0m\u001b[1;36m2\u001b[0m\u001b[1;33m\u001b[0m\u001b[1;33m\u001b[0m\u001b[0m\n\u001b[0m",
      "\u001b[1;31mNameError\u001b[0m: name 'nba' is not defined"
     ]
    }
   ],
   "source": [
    "nbavarob = nba['win%'].std()**2"
   ]
  },
  {
   "cell_type": "code",
   "execution_count": 97,
   "metadata": {},
   "outputs": [
    {
     "data": {
      "text/plain": [
       "0.023426033393787064"
      ]
     },
     "execution_count": 97,
     "metadata": {},
     "output_type": "execute_result"
    }
   ],
   "source": [
    "nba['win%'].std()**2"
   ]
  },
  {
   "cell_type": "code",
   "execution_count": 93,
   "metadata": {},
   "outputs": [
    {
     "data": {
      "text/plain": [
       "0.0361"
      ]
     },
     "execution_count": 93,
     "metadata": {},
     "output_type": "execute_result"
    }
   ],
   "source": [
    ".19**2"
   ]
  },
  {
   "cell_type": "code",
   "execution_count": 109,
   "metadata": {},
   "outputs": [],
   "source": [
    "url = 'https://www.basketball-reference.com/playoffs/NBA_2019.html'\n",
    "page = requests.get(url)\n",
    "soup = BeautifulSoup(page.content, 'html.parser')\n",
    "wins = soup.find_all(id=\"s874\")"
   ]
  },
  {
   "cell_type": "code",
   "execution_count": 106,
   "metadata": {},
   "outputs": [],
   "source": [
    "url = 'https://www.basketball-reference.com/leagues/NBA_2019.html'\n",
    "page = requests.get(url)\n",
    "soup = BeautifulSoup(page.content, 'html.parser')\n",
    "wins = soup.find(text = re.compile('Toronto Raptors')).find_next(\"td\").string"
   ]
  },
  {
   "cell_type": "code",
   "execution_count": 1,
   "metadata": {},
   "outputs": [],
   "source": [
    "from bs4 import BeautifulSoup\n",
    "import requests\n",
    "import re\n",
    "import pandas as pd \n",
    "import numpy as np\n",
    "\n",
    "finals_url = {}\n",
    "years = range(1989,2020,1)\n",
    "i = 0\n",
    "\n",
    "\n",
    "for year in years:\n",
    "    url = 'https://www.basketball-reference.com/playoffs/NBA_{}.html'\n",
    "    page = requests.get(url.format(year))\n",
    "    soup = BeautifulSoup(page.content, 'html.parser')  \n",
    "    for a in soup.find_all('a', href=True):\n",
    "        if 'nba-finals-' in a['href']:\n",
    "            i += 1\n",
    "            finals_url[i] = a['href']\n",
    "        else:\n",
    "            pass"
   ]
  },
  {
   "cell_type": "code",
   "execution_count": 2,
   "metadata": {},
   "outputs": [],
   "source": [
    "allurls = list(set(finals_url.values()))\n",
    "allurls.sort()"
   ]
  },
  {
   "cell_type": "code",
   "execution_count": null,
   "metadata": {},
   "outputs": [],
   "source": [
    "url = '/playoffs/1990-nba-finals-trail-blazers-vs-pistons.html'\n",
    "nba_finals_stats = pd.DataFrame()\n",
    "bballrefurl = 'https://www.basketball-reference.com{}'\n",
    "# i = 1\n",
    "year = 1989\n",
    "\n",
    "# for url in allurls:\n",
    "\n",
    "    \n",
    "def finals_stats(url):\n",
    "    year = allurls[allurls.index(url)][10:14]\n",
    "#     i = 1\n",
    "    print(year)\n",
    "    finalsurl = bballrefurl.format(url)\n",
    "    print(finalsurl)\n",
    "    df = pd.DataFrame()  \n",
    "    for n in [-1,-2]:\n",
    "        t1 = pd.read_html(finalsurl)[n]\n",
    "        t1.columns = t1.columns.get_level_values(1) \n",
    "        t1['Team'] = 'Team' + str(n*-1)\n",
    "        t1['Year'] = year\n",
    "        df = df.append(t1[['Rk','Player','MP','Team','Year']])\n",
    "#         print(df)\n",
    "    return df\n",
    "\n",
    "for url in allurls:\n",
    "    nba_finals_stats = nba_finals_stats.append(finals_stats(url))\n",
    "    "
   ]
  },
  {
   "cell_type": "code",
   "execution_count": 44,
   "metadata": {},
   "outputs": [],
   "source": [
    "nba_finals_stats.to_csv('nbafinalsstats.csv')\n"
   ]
  },
  {
   "cell_type": "code",
   "execution_count": 17,
   "metadata": {},
   "outputs": [
    {
     "data": {
      "text/html": [
       "<div>\n",
       "<style scoped>\n",
       "    .dataframe tbody tr th:only-of-type {\n",
       "        vertical-align: middle;\n",
       "    }\n",
       "\n",
       "    .dataframe tbody tr th {\n",
       "        vertical-align: top;\n",
       "    }\n",
       "\n",
       "    .dataframe thead th {\n",
       "        text-align: right;\n",
       "    }\n",
       "</style>\n",
       "<table border=\"1\" class=\"dataframe\">\n",
       "  <thead>\n",
       "    <tr style=\"text-align: right;\">\n",
       "      <th></th>\n",
       "      <th>Rk</th>\n",
       "      <th>Player</th>\n",
       "    </tr>\n",
       "  </thead>\n",
       "  <tbody>\n",
       "    <tr>\n",
       "      <th>0</th>\n",
       "      <td>1.0</td>\n",
       "      <td>Joe Dumars</td>\n",
       "    </tr>\n",
       "    <tr>\n",
       "      <th>1</th>\n",
       "      <td>2.0</td>\n",
       "      <td>Isiah Thomas</td>\n",
       "    </tr>\n",
       "    <tr>\n",
       "      <th>2</th>\n",
       "      <td>3.0</td>\n",
       "      <td>Vinnie Johnson</td>\n",
       "    </tr>\n",
       "    <tr>\n",
       "      <th>3</th>\n",
       "      <td>4.0</td>\n",
       "      <td>James Edwards</td>\n",
       "    </tr>\n",
       "    <tr>\n",
       "      <th>4</th>\n",
       "      <td>5.0</td>\n",
       "      <td>Bill Laimbeer</td>\n",
       "    </tr>\n",
       "    <tr>\n",
       "      <th>5</th>\n",
       "      <td>6.0</td>\n",
       "      <td>Mark Aguirre</td>\n",
       "    </tr>\n",
       "    <tr>\n",
       "      <th>6</th>\n",
       "      <td>7.0</td>\n",
       "      <td>John Salley</td>\n",
       "    </tr>\n",
       "    <tr>\n",
       "      <th>7</th>\n",
       "      <td>8.0</td>\n",
       "      <td>Rick Mahorn</td>\n",
       "    </tr>\n",
       "    <tr>\n",
       "      <th>8</th>\n",
       "      <td>9.0</td>\n",
       "      <td>Dennis Rodman</td>\n",
       "    </tr>\n",
       "    <tr>\n",
       "      <th>9</th>\n",
       "      <td>10.0</td>\n",
       "      <td>John Long</td>\n",
       "    </tr>\n",
       "    <tr>\n",
       "      <th>10</th>\n",
       "      <td>11.0</td>\n",
       "      <td>Fennis Dembo</td>\n",
       "    </tr>\n",
       "    <tr>\n",
       "      <th>11</th>\n",
       "      <td>12.0</td>\n",
       "      <td>Micheal Williams</td>\n",
       "    </tr>\n",
       "    <tr>\n",
       "      <th>12</th>\n",
       "      <td>NaN</td>\n",
       "      <td>Team Totals</td>\n",
       "    </tr>\n",
       "    <tr>\n",
       "      <th>0</th>\n",
       "      <td>1.0</td>\n",
       "      <td>Joe Dumars</td>\n",
       "    </tr>\n",
       "    <tr>\n",
       "      <th>1</th>\n",
       "      <td>2.0</td>\n",
       "      <td>Isiah Thomas</td>\n",
       "    </tr>\n",
       "    <tr>\n",
       "      <th>2</th>\n",
       "      <td>3.0</td>\n",
       "      <td>Vinnie Johnson</td>\n",
       "    </tr>\n",
       "    <tr>\n",
       "      <th>3</th>\n",
       "      <td>4.0</td>\n",
       "      <td>James Edwards</td>\n",
       "    </tr>\n",
       "    <tr>\n",
       "      <th>4</th>\n",
       "      <td>5.0</td>\n",
       "      <td>Bill Laimbeer</td>\n",
       "    </tr>\n",
       "    <tr>\n",
       "      <th>5</th>\n",
       "      <td>6.0</td>\n",
       "      <td>Mark Aguirre</td>\n",
       "    </tr>\n",
       "    <tr>\n",
       "      <th>6</th>\n",
       "      <td>7.0</td>\n",
       "      <td>John Salley</td>\n",
       "    </tr>\n",
       "    <tr>\n",
       "      <th>7</th>\n",
       "      <td>8.0</td>\n",
       "      <td>Rick Mahorn</td>\n",
       "    </tr>\n",
       "    <tr>\n",
       "      <th>8</th>\n",
       "      <td>9.0</td>\n",
       "      <td>Dennis Rodman</td>\n",
       "    </tr>\n",
       "    <tr>\n",
       "      <th>9</th>\n",
       "      <td>10.0</td>\n",
       "      <td>John Long</td>\n",
       "    </tr>\n",
       "    <tr>\n",
       "      <th>10</th>\n",
       "      <td>11.0</td>\n",
       "      <td>Fennis Dembo</td>\n",
       "    </tr>\n",
       "    <tr>\n",
       "      <th>11</th>\n",
       "      <td>12.0</td>\n",
       "      <td>Micheal Williams</td>\n",
       "    </tr>\n",
       "    <tr>\n",
       "      <th>12</th>\n",
       "      <td>NaN</td>\n",
       "      <td>Team Totals</td>\n",
       "    </tr>\n",
       "  </tbody>\n",
       "</table>\n",
       "</div>"
      ],
      "text/plain": [
       "      Rk            Player\n",
       "0    1.0        Joe Dumars\n",
       "1    2.0      Isiah Thomas\n",
       "2    3.0    Vinnie Johnson\n",
       "3    4.0     James Edwards\n",
       "4    5.0     Bill Laimbeer\n",
       "5    6.0      Mark Aguirre\n",
       "6    7.0       John Salley\n",
       "7    8.0       Rick Mahorn\n",
       "8    9.0     Dennis Rodman\n",
       "9   10.0         John Long\n",
       "10  11.0      Fennis Dembo\n",
       "11  12.0  Micheal Williams\n",
       "12   NaN       Team Totals\n",
       "0    1.0        Joe Dumars\n",
       "1    2.0      Isiah Thomas\n",
       "2    3.0    Vinnie Johnson\n",
       "3    4.0     James Edwards\n",
       "4    5.0     Bill Laimbeer\n",
       "5    6.0      Mark Aguirre\n",
       "6    7.0       John Salley\n",
       "7    8.0       Rick Mahorn\n",
       "8    9.0     Dennis Rodman\n",
       "9   10.0         John Long\n",
       "10  11.0      Fennis Dembo\n",
       "11  12.0  Micheal Williams\n",
       "12   NaN       Team Totals"
      ]
     },
     "execution_count": 17,
     "metadata": {},
     "output_type": "execute_result"
    }
   ],
   "source": [
    "t1 = pd.read_html('https://www.basketball-reference.com/playoffs/1989-nba-finals-lakers-vs-pistons.html')[8]\n",
    "i += 1\n",
    "# print(t1)\n",
    "t1.columns = t1.columns.get_level_values(1) \n",
    "# t1['Team'] = 'Team' + str(i)\n",
    "# t1['Year'] = year\n",
    "nba_finals_stats = nba_finals_stats.append(t1[['Rk','Player']])\n",
    "nba_finals_stats"
   ]
  },
  {
   "cell_type": "code",
   "execution_count": 52,
   "metadata": {},
   "outputs": [
    {
     "name": "stdout",
     "output_type": "stream",
     "text": [
      "/playoffs/2018-vegas-golden-knights-vs-washington-capitals-stanley-cup-final.html\n"
     ]
    }
   ],
   "source": [
    "url = 'https://www.hockey-reference.com/playoffs/NHL_2018.html'\n",
    "page = requests.get(url.format(year))\n",
    "soup = BeautifulSoup(page.content, 'html.parser')  \n",
    "\n",
    "for a in soup.find_all('a', href=True):\n",
    "    if 'stanley' in a['href']:\n",
    "        print(a['href'])"
   ]
  },
  {
   "cell_type": "code",
   "execution_count": 93,
   "metadata": {},
   "outputs": [],
   "source": [
    "nhlfinals_url = \n",
    "years = range(1989,2020,1)\n",
    "i = 0\n",
    "\n",
    "\n",
    "for year in years:\n",
    "    url = 'https://www.hockey-reference.com/playoffs/NHL_{}.html'\n",
    "    page = requests.get(url.format(year))\n",
    "    soup = BeautifulSoup(page.content, 'html.parser')  \n",
    "    for a in soup.find_all('a', href=True):\n",
    "        if 'stanley' in a['href']:\n",
    "            i += 1\n",
    "            nhlfinals_url[i] = a['href']\n",
    "        else:\n",
    "            pass"
   ]
  },
  {
   "cell_type": "code",
   "execution_count": 95,
   "metadata": {},
   "outputs": [],
   "source": [
    "allnhlurls = list(set(nhlfinals_url.values()))\n",
    "allnhlurls.sort()"
   ]
  },
  {
   "cell_type": "code",
   "execution_count": null,
   "metadata": {},
   "outputs": [],
   "source": [
    "nhlrefurl = 'https://www.hockey-reference.com{}'\n",
    "nhl_finals_stats = pd.DataFrame()\n",
    "\n",
    "def nhlfinals_stats(url):\n",
    "    print(url)\n",
    "    year = allnhlurls[allnhlurls.index(url)][10:14]\n",
    "#     i = 1\n",
    "    print(year)\n",
    "    finalsurl = nhlrefurl.format(url)\n",
    "    print(finalsurl)\n",
    "    df = pd.DataFrame()  \n",
    "    for n in [-2,-4]:\n",
    "        t1 = pd.read_html(finalsurl)[n]\n",
    "        t1.columns = t1.columns.get_level_values(1) \n",
    "        t1['Team'] = 'Team' + str(int(n*-.5))\n",
    "        t1['Year'] = year\n",
    "        df = df.append(t1[['Rk','Player','Pos','ATOI','Team','Year']])\n",
    "#         print(df)\n",
    "    return df\n",
    "\n",
    "for url in allnhlurls:\n",
    "    nhl_finals_stats = nhl_finals_stats.append(nhlfinals_stats(url))\n"
   ]
  },
  {
   "cell_type": "code",
   "execution_count": null,
   "metadata": {},
   "outputs": [],
   "source": [
    "nhl_finals_stats.to_csv('nhlfinalsstats.csv')"
   ]
  },
  {
   "cell_type": "code",
   "execution_count": 1,
   "metadata": {},
   "outputs": [],
   "source": [
    "# variance in winning% between nba and nhl over the 30 years \n",
    "# plot variance over the years\n",
    "# plot playing time% in finals as well\n",
    "# calculate PS/WS divided by league average to show difference in contribution between stars and \n",
    "# trend persists over the years; nhl win% variance potentially higher prior to 2005\n",
    "# star players playing more minutes having more influence; 80% for NBA vs 33% for NHL \n",
    "# star players have roughly 4.5x win shares/point shares compared to league average\n",
    "\n",
    "# talk about repeats pre and post NHL hard cap which was introduced in 2006 after 2005 lockout\n",
    "# hard cap vs soft cap allowing continued success which is a major difference in the collective bargaining agreements \n",
    "# of the 2 leagues \n",
    "\n",
    "\n"
   ]
  },
  {
   "cell_type": "markdown",
   "metadata": {},
   "source": [
    "### take a look with a plot "
   ]
  },
  {
   "cell_type": "code",
   "execution_count": null,
   "metadata": {},
   "outputs": [],
   "source": [
    "import matplotlib.pyplot as plt \n",
    "import seaborn as sns \n",
    "\n"
   ]
  }
 ],
 "metadata": {
  "kernelspec": {
   "display_name": "Python 3",
   "language": "python",
   "name": "python3"
  },
  "language_info": {
   "codemirror_mode": {
    "name": "ipython",
    "version": 3
   },
   "file_extension": ".py",
   "mimetype": "text/x-python",
   "name": "python",
   "nbconvert_exporter": "python",
   "pygments_lexer": "ipython3",
   "version": "3.7.1"
  }
 },
 "nbformat": 4,
 "nbformat_minor": 2
}
